{
 "cells": [
  {
   "cell_type": "markdown",
   "id": "52d22074-17fe-4b23-aa1a-99fb889687dd",
   "metadata": {},
   "source": [
    "# Data Science Tools and Ecosystem"
   ]
  },
  {
   "cell_type": "markdown",
   "id": "ac01d6ee-ffa1-4b79-9c79-3b51c5d21514",
   "metadata": {},
   "source": [
    "## Author\n",
    "Saif Ullah Khan"
   ]
  },
  {
   "cell_type": "markdown",
   "id": "e1c0f732-de40-433d-b1de-0790e3572cf7",
   "metadata": {},
   "source": [
    "In this notebook, Data Science Tools and Ecosystems are summarized. "
   ]
  },
  {
   "cell_type": "markdown",
   "id": "13d688f1-671a-4785-9eff-3cd05ba00245",
   "metadata": {
    "tags": []
   },
   "source": [
    "**Objectives**\n",
    "- To learn how to make an name a jupyter notebook in markdown, using Jupter notebook\n",
    "- To learn how to create an ordered list in markdown, using Jupter notebook\n",
    "- To learn how to create an unordered list in markdown, using Jupter notebook\n",
    "- To learn how to create a table in markdown, using Jupter notebook"
   ]
  },
  {
   "cell_type": "markdown",
   "id": "6ff4a71f-0c63-4fd4-b0bb-b5fc4c219058",
   "metadata": {},
   "source": [
    "Some of the common languages Data Scientists use are as follows:\n",
    "1. Python\n",
    "2. SQL\n",
    "3. R\n",
    "4. Julia\n",
    "5. Scala"
   ]
  },
  {
   "cell_type": "markdown",
   "id": "87a14be6-643c-42a2-aa96-54494a12f5c2",
   "metadata": {},
   "source": [
    "Some of the Commonly used libraries used by Data Scientists are:\n",
    "1. Pandas\n",
    "2. Numpy\n",
    "3. Keras\n",
    "4. ggplot\n",
    "5. caret"
   ]
  },
  {
   "cell_type": "markdown",
   "id": "53aa0f9f-fa6d-4d59-8e74-f78382421f90",
   "metadata": {
    "tags": []
   },
   "source": [
    "|Data Science Tools|\n",
    "--------------------\n",
    "|R Studio|\n",
    "|Apache Spark|\n",
    "|Tensor Flow|"
   ]
  },
  {
   "cell_type": "markdown",
   "id": "f6b0e442-0de8-4465-a81d-cd10d7d3df6a",
   "metadata": {},
   "source": [
    "### Below are a few examples of evaluating arithematic expressions in Python"
   ]
  },
  {
   "cell_type": "code",
   "execution_count": 3,
   "id": "40ca99a3-4cb5-476f-8aac-185a46567073",
   "metadata": {
    "tags": []
   },
   "outputs": [
    {
     "data": {
      "text/plain": [
       "17"
      ]
     },
     "execution_count": 3,
     "metadata": {},
     "output_type": "execute_result"
    }
   ],
   "source": [
    "(3*4)+5"
   ]
  },
  {
   "cell_type": "markdown",
   "id": "d432f2eb-0ac0-4e71-8e33-81b67b182a4e",
   "metadata": {},
   "source": [
    "This will convert 200 minutes to hours by dividing by 60"
   ]
  },
  {
   "cell_type": "code",
   "execution_count": 4,
   "id": "ad3acbaf-8641-4e41-853f-0eae6f6cbca9",
   "metadata": {
    "tags": []
   },
   "outputs": [
    {
     "data": {
      "text/plain": [
       "3.3333333333333335"
      ]
     },
     "execution_count": 4,
     "metadata": {},
     "output_type": "execute_result"
    }
   ],
   "source": [
    "200/60"
   ]
  }
 ],
 "metadata": {
  "kernelspec": {
   "display_name": "Python 3 (ipykernel)",
   "language": "python",
   "name": "python3"
  },
  "language_info": {
   "codemirror_mode": {
    "name": "ipython",
    "version": 3
   },
   "file_extension": ".py",
   "mimetype": "text/x-python",
   "name": "python",
   "nbconvert_exporter": "python",
   "pygments_lexer": "ipython3",
   "version": "3.11.4"
  }
 },
 "nbformat": 4,
 "nbformat_minor": 5
}
